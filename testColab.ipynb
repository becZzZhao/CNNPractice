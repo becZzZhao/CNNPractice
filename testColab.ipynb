{
  "nbformat": 4,
  "nbformat_minor": 0,
  "metadata": {
    "colab": {
      "name": "Untitled4.ipynb",
      "provenance": [],
      "toc_visible": true,
      "authorship_tag": "ABX9TyMd/8Z0GAI8mL565FiTHCWc",
      "include_colab_link": true
    },
    "kernelspec": {
      "name": "python3",
      "display_name": "Python 3"
    }
  },
  "cells": [
    {
      "cell_type": "markdown",
      "metadata": {
        "id": "view-in-github",
        "colab_type": "text"
      },
      "source": [
        "<a href=\"https://colab.research.google.com/github/becZzZhao/CNNPractice/blob/master/testColab.ipynb\" target=\"_parent\"><img src=\"https://colab.research.google.com/assets/colab-badge.svg\" alt=\"Open In Colab\"/></a>"
      ]
    },
    {
      "cell_type": "code",
      "metadata": {
        "id": "gPUVHBKZBwU-",
        "colab_type": "code",
        "colab": {
          "base_uri": "https://localhost:8080/",
          "height": 34
        },
        "outputId": "d192b9bc-139c-4804-c238-d2f2a216f4b0"
      },
      "source": [
        "from google.colab import drive\n",
        "drive.mount('/content/drive')"
      ],
      "execution_count": 30,
      "outputs": [
        {
          "output_type": "stream",
          "text": [
            "Drive already mounted at /content/drive; to attempt to forcibly remount, call drive.mount(\"/content/drive\", force_remount=True).\n"
          ],
          "name": "stdout"
        }
      ]
    },
    {
      "cell_type": "code",
      "metadata": {
        "id": "m3Qk-uH62qH_",
        "colab_type": "code",
        "colab": {}
      },
      "source": [
        "drive.flush_and_unmount()"
      ],
      "execution_count": null,
      "outputs": []
    },
    {
      "cell_type": "code",
      "metadata": {
        "id": "ru4l4FHXlQVj",
        "colab_type": "code",
        "colab": {
          "base_uri": "https://localhost:8080/",
          "height": 34
        },
        "outputId": "bf3e9d7b-a05a-4d7e-9269-b83aab38ab57"
      },
      "source": [
        "%cd '/content/drive/My Drive/projects/cv'\n"
      ],
      "execution_count": null,
      "outputs": [
        {
          "output_type": "stream",
          "text": [
            "/content/drive/My Drive/projects/cv\n"
          ],
          "name": "stdout"
        }
      ]
    },
    {
      "cell_type": "code",
      "metadata": {
        "id": "AMpI5XrYpEut",
        "colab_type": "code",
        "colab": {
          "base_uri": "https://localhost:8080/",
          "height": 52
        },
        "outputId": "798608d0-3959-40a8-c5e4-2236a7e44340"
      },
      "source": [
        "!ls "
      ],
      "execution_count": null,
      "outputs": [
        {
          "output_type": "stream",
          "text": [
            "eg1.jpg        Mask.py\tPage.py      Scans.py\t Vertical.py\n",
            "Horizontal.py  ocr.py\t__pycache__  to_text.py\n"
          ],
          "name": "stdout"
        }
      ]
    },
    {
      "cell_type": "code",
      "metadata": {
        "id": "4Kxrtn5mqiNW",
        "colab_type": "code",
        "colab": {}
      },
      "source": [
        "# import Vertical\n",
        "# import Page"
      ],
      "execution_count": null,
      "outputs": []
    },
    {
      "cell_type": "code",
      "metadata": {
        "id": "TykHZmqDv9W0",
        "colab_type": "code",
        "colab": {}
      },
      "source": [
        "# from Vertical import Vertical\n",
        "from Page import Page"
      ],
      "execution_count": null,
      "outputs": []
    },
    {
      "cell_type": "code",
      "metadata": {
        "id": "0tBseRZv4UYJ",
        "colab_type": "code",
        "colab": {
          "base_uri": "https://localhost:8080/",
          "height": 52
        },
        "outputId": "4a4d5e9e-7f4a-4525-d38a-159d71f5a3d9"
      },
      "source": [
        "!cp \"/content/drive/My Drive/projects/cv/Vertical.py\" \n"
      ],
      "execution_count": null,
      "outputs": [
        {
          "output_type": "stream",
          "text": [
            "cp: missing destination file operand after '/content/drive/My Drive/projects/cv/Vertical.py'\n",
            "Try 'cp --help' for more information.\n"
          ],
          "name": "stdout"
        }
      ]
    },
    {
      "cell_type": "code",
      "metadata": {
        "id": "RBBxTg7n6DAm",
        "colab_type": "code",
        "colab": {}
      },
      "source": [
        "import Vertical"
      ],
      "execution_count": null,
      "outputs": []
    },
    {
      "cell_type": "code",
      "metadata": {
        "id": "dfPzdmDr6RIF",
        "colab_type": "code",
        "colab": {
          "base_uri": "https://localhost:8080/",
          "height": 166
        },
        "outputId": "a74b1fcf-810a-4a5a-968e-e08304ce2685"
      },
      "source": [
        "Vertical.create_column_borders(p,draw=False)"
      ],
      "execution_count": null,
      "outputs": [
        {
          "output_type": "error",
          "ename": "AttributeError",
          "evalue": "ignored",
          "traceback": [
            "\u001b[0;31m---------------------------------------------------------------------------\u001b[0m",
            "\u001b[0;31mAttributeError\u001b[0m                            Traceback (most recent call last)",
            "\u001b[0;32m<ipython-input-29-e1b605e187d4>\u001b[0m in \u001b[0;36m<module>\u001b[0;34m()\u001b[0m\n\u001b[0;32m----> 1\u001b[0;31m \u001b[0mVertical\u001b[0m\u001b[0;34m.\u001b[0m\u001b[0mcreate_column_borders\u001b[0m\u001b[0;34m(\u001b[0m\u001b[0mp\u001b[0m\u001b[0;34m,\u001b[0m\u001b[0mdraw\u001b[0m\u001b[0;34m=\u001b[0m\u001b[0;32mFalse\u001b[0m\u001b[0;34m)\u001b[0m\u001b[0;34m\u001b[0m\u001b[0;34m\u001b[0m\u001b[0m\n\u001b[0m",
            "\u001b[0;31mAttributeError\u001b[0m: module 'Vertical' has no attribute 'create_column_borders'"
          ]
        }
      ]
    },
    {
      "cell_type": "code",
      "metadata": {
        "id": "CQhtCRnrqBhF",
        "colab_type": "code",
        "colab": {
          "base_uri": "https://localhost:8080/",
          "height": 412
        },
        "outputId": "ecc729ec-636f-431a-ee27-c54c776f0544"
      },
      "source": [
        "p = Page.rawtobinary('eg1.jpg')\n",
        "a , b = Vertical.create_column_borders(p,draw=False)"
      ],
      "execution_count": null,
      "outputs": [
        {
          "output_type": "stream",
          "text": [
            "number of [lines of min length =  600 from HoughineLine:  14  |||e.g. the first line [x1,y1,x2,y2]:  [[1845 2717 1845    0]]\n",
            "vvvvvvStart to finalize all lines with finalize_vertical_line() method  ***********************************\n",
            "[array([ 342, 1326,  342,  866], dtype=int32), array([ 343, 1544,  343, 1203], dtype=int32), array([ 343, 2381,  343, 1607], dtype=int32), array([ 573, 1302,  573,  778], dtype=int32), array([ 574, 2379,  574, 1850], dtype=int32), array([1063,  948, 1063,  348], dtype=int32), array([1064, 1449, 1064,  827], dtype=int32), array([1066, 2054, 1066, 1522], dtype=int32), array([1067, 2402, 1067, 1931], dtype=int32), array([1221, 1598, 1221,  868], dtype=int32), array([1842, 2722, 1842,    0], dtype=int32), array([1843, 2721, 1843,    0], dtype=int32), array([1844, 2720, 1844,    0], dtype=int32), array([1845, 2717, 1845,    0], dtype=int32)]\n",
            "3  lines found for line  0 move on to line  1\n",
            "2  lines found for line  1 move on to line  2\n",
            "5  lines found for line  2 move on to line  3\n",
            "array([ 342, 1326,  342,  866], dtype=int32), array([ 343, 1544,  343, 1203], dtype=int32), array([ 343, 2381,  343, 1607], dtype=int32)\n",
            "avg x1 for line  0 :  342\n",
            "avg x1 for line  1 :  573\n",
            "avg x1 for line  2 :  1096\n",
            "avg x1 for line  3 :  1843\n",
            "^^^^^^^^Finalized Vertical Vertical, final x for each vertical:  [342, 573, 1096, 1843]  ************************************************************\n"
          ],
          "name": "stdout"
        },
        {
          "output_type": "error",
          "ename": "ValueError",
          "evalue": "ignored",
          "traceback": [
            "\u001b[0;31m---------------------------------------------------------------------------\u001b[0m",
            "\u001b[0;31mValueError\u001b[0m                                Traceback (most recent call last)",
            "\u001b[0;32m<ipython-input-10-95f90489dae7>\u001b[0m in \u001b[0;36m<module>\u001b[0;34m()\u001b[0m\n\u001b[1;32m      1\u001b[0m \u001b[0mp\u001b[0m \u001b[0;34m=\u001b[0m \u001b[0mPage\u001b[0m\u001b[0;34m.\u001b[0m\u001b[0mrawtobinary\u001b[0m\u001b[0;34m(\u001b[0m\u001b[0;34m'eg1.jpg'\u001b[0m\u001b[0;34m)\u001b[0m\u001b[0;34m\u001b[0m\u001b[0;34m\u001b[0m\u001b[0m\n\u001b[0;32m----> 2\u001b[0;31m \u001b[0ma\u001b[0m \u001b[0;34m,\u001b[0m \u001b[0mb\u001b[0m \u001b[0;34m=\u001b[0m \u001b[0mVertical\u001b[0m\u001b[0;34m.\u001b[0m\u001b[0mcreate_column_borders\u001b[0m\u001b[0;34m(\u001b[0m\u001b[0mp\u001b[0m\u001b[0;34m,\u001b[0m\u001b[0mdraw\u001b[0m\u001b[0;34m=\u001b[0m\u001b[0;32mFalse\u001b[0m\u001b[0;34m)\u001b[0m\u001b[0;34m\u001b[0m\u001b[0;34m\u001b[0m\u001b[0m\n\u001b[0m",
            "\u001b[0;31mValueError\u001b[0m: too many values to unpack (expected 2)"
          ]
        }
      ]
    },
    {
      "cell_type": "code",
      "metadata": {
        "id": "E2_EiEa3z9J7",
        "colab_type": "code",
        "colab": {}
      },
      "source": [
        "from Vertical import Vertical as myVer"
      ],
      "execution_count": null,
      "outputs": []
    },
    {
      "cell_type": "code",
      "metadata": {
        "id": "Ki6a4Dziy0sX",
        "colab_type": "code",
        "colab": {
          "base_uri": "https://localhost:8080/",
          "height": 245
        },
        "outputId": "d3f3b18a-ed9b-4d88-b298-9f1d5525e99d"
      },
      "source": [
        "##### this !!!!!!!!!!!!!\n",
        "# edit file\n",
        "# ctrl S to save. \n",
        "# run this code to update.\n",
        "\n",
        "\n",
        "from importlib import reload  \n",
        "import Vertical\n",
        "\n",
        "a = reload(Vertical)"
      ],
      "execution_count": 41,
      "outputs": [
        {
          "output_type": "stream",
          "text": [
            "number of [lines of min length =  600 from HoughineLine:  14  |||e.g. the first line [x1,y1,x2,y2]:  [[1845 2717 1845    0]]\n",
            "vvvvvvStart to finalize all lines with finalize_vertical_line() method  ***********************************\n",
            "[array([ 342, 1326,  342,  866], dtype=int32), array([ 343, 1544,  343, 1203], dtype=int32), array([ 343, 2381,  343, 1607], dtype=int32), array([ 573, 1302,  573,  778], dtype=int32), array([ 574, 2379,  574, 1850], dtype=int32), array([1063,  948, 1063,  348], dtype=int32), array([1064, 1449, 1064,  827], dtype=int32), array([1066, 2054, 1066, 1522], dtype=int32), array([1067, 2402, 1067, 1931], dtype=int32), array([1221, 1598, 1221,  868], dtype=int32), array([1842, 2722, 1842,    0], dtype=int32), array([1843, 2721, 1843,    0], dtype=int32), array([1844, 2720, 1844,    0], dtype=int32), array([1845, 2717, 1845,    0], dtype=int32)]\n",
            "3  lines found for line  0 move on to line  1\n",
            "2  lines found for line  1 move on to line  2\n",
            "5  lines found for line  2 move on to line  3\n",
            "array([ 342, 1326,  342,  866], dtype=int32), array([ 343, 1544,  343, 1203], dtype=int32), array([ 343, 2381,  343, 1607], dtype=int32)\n",
            "avg x1 for line  0 :  342\n",
            "avg x1 for line  1 :  573\n",
            "avg x1 for line  2 :  1096\n",
            "avg x1 for line  3 :  1843\n",
            "^^^^^^^^Finalized Vertical Vertical, final x for each vertical:  [342, 573, 1096, 1843]  ************************************************************\n"
          ],
          "name": "stdout"
        }
      ]
    },
    {
      "cell_type": "code",
      "metadata": {
        "id": "86NaJhm5Aujs",
        "colab_type": "code",
        "colab": {
          "base_uri": "https://localhost:8080/",
          "height": 34
        },
        "outputId": "ac5698c4-1f17-43a2-de1c-6e5352c729e4"
      },
      "source": [
        "Vertical.Vertical.func1()"
      ],
      "execution_count": 40,
      "outputs": [
        {
          "output_type": "stream",
          "text": [
            "test success\n"
          ],
          "name": "stdout"
        }
      ]
    },
    {
      "cell_type": "code",
      "metadata": {
        "id": "GHzykEIPECBh",
        "colab_type": "code",
        "colab": {
          "base_uri": "https://localhost:8080/",
          "height": 104
        },
        "outputId": "e93b0ae4-2068-4738-feba-fbd9bcc028f4"
      },
      "source": [
        "import cv2\n",
        "import numpy as np\n",
        "from matplotlib import pyplot as plt\n",
        "\n",
        "img = cv2.imread(\"Sample-image.jpg\")\n",
        "img_cvt=cv2.cvtColor(img, cv2.COLOR_BGR2RGB)\n",
        "plt.imshow(img_cvt)\n",
        "plt.show()"
      ],
      "execution_count": null,
      "outputs": [
        {
          "output_type": "stream",
          "text": [
            "Drive already mounted at /content/drive/; to attempt to forcibly remount, call drive.mount(\"/content/drive/\", force_remount=True).\n",
            "mkdir: cannot create directory ‘MyDrive’: File exists\n",
            "mount: bad usage\n",
            "Try 'mount --help' for more information.\n",
            "drive  MyDrive\tsample_data\n"
          ],
          "name": "stdout"
        }
      ]
    },
    {
      "cell_type": "code",
      "metadata": {
        "id": "CAJCHKnekey6",
        "colab_type": "code",
        "colab": {
          "base_uri": "https://localhost:8080/",
          "height": 34
        },
        "outputId": "3ae6b08e-8770-48aa-b318-aeada35b4b0b"
      },
      "source": [
        "!ls"
      ],
      "execution_count": null,
      "outputs": [
        {
          "output_type": "stream",
          "text": [
            "drive  MyDrive\tsample_data\n"
          ],
          "name": "stdout"
        }
      ]
    },
    {
      "cell_type": "code",
      "metadata": {
        "id": "59A5TB7YIFKX",
        "colab_type": "code",
        "colab": {}
      },
      "source": [
        "img = cv2.imread('Connecticut 1863 - eg1.jpg')\n",
        "# print(img)"
      ],
      "execution_count": null,
      "outputs": []
    },
    {
      "cell_type": "code",
      "metadata": {
        "id": "_RavNBMwINaz",
        "colab_type": "code",
        "colab": {
          "base_uri": "https://localhost:8080/",
          "height": 52
        },
        "outputId": "59e36160-d6ad-4bef-cd70-2544722ce3bb"
      },
      "source": [
        ""
      ],
      "execution_count": null,
      "outputs": [
        {
          "output_type": "stream",
          "text": [
            "'Connecticut 1863 - eg1 (1).jpg'   drive     sample_data\n",
            "'Connecticut 1863 - eg1.jpg'\t   MyDrive\n"
          ],
          "name": "stdout"
        }
      ]
    },
    {
      "cell_type": "code",
      "metadata": {
        "id": "3a8kX2wlBz6r",
        "colab_type": "code",
        "colab": {
          "base_uri": "https://localhost:8080/",
          "height": 34
        },
        "outputId": "e77400fd-2a1d-419d-e764-67f875729c06"
      },
      "source": [
        "\n",
        "import numpy as np\n",
        "\n",
        "img = img = cv2.imread('Connecticut 1863 - eg1.jpg')\n",
        "gray = cv2.cvtColor(img,cv2.COLOR_BGR2GRAY)\n",
        "edges = cv2.Canny(gray,50,150,apertureSize = 3)\n",
        "\n",
        "lines = cv2.HoughLines(edges,1,np.pi/180,200)\n",
        "for rho,theta in lines[0]:\n",
        "    a = np.cos(theta)\n",
        "    b = np.sin(theta)\n",
        "    x0 = a*rho\n",
        "    y0 = b*rho\n",
        "    x1 = int(x0 + 1000*(-b))\n",
        "    y1 = int(y0 + 1000*(a))\n",
        "    x2 = int(x0 - 1000*(-b))\n",
        "    y2 = int(y0 - 1000*(a))\n",
        "\n",
        "    cv2.line(img,(x1,y1),(x2,y2),(0,0,255),2)\n",
        "\n",
        "cv2.imwrite('houghlines3.jpg',img)"
      ],
      "execution_count": null,
      "outputs": [
        {
          "output_type": "execute_result",
          "data": {
            "text/plain": [
              "True"
            ]
          },
          "metadata": {
            "tags": []
          },
          "execution_count": 22
        }
      ]
    },
    {
      "cell_type": "code",
      "metadata": {
        "id": "lLrK8FvmCBV7",
        "colab_type": "code",
        "colab": {
          "base_uri": "https://localhost:8080/",
          "height": 286
        },
        "outputId": "f1d2608e-5374-4df8-bbb7-89ba7f2e3a85"
      },
      "source": [
        "%pylab inline\n",
        "import matplotlib.pyplot as plt\n",
        "import matplotlib.image as mpimg\n",
        "img=mpimg.imread('houghlines3.jpg')\n",
        "imgplot = plt.imshow(img)\n",
        "plt.show()"
      ],
      "execution_count": null,
      "outputs": [
        {
          "output_type": "stream",
          "text": [
            "Populating the interactive namespace from numpy and matplotlib\n"
          ],
          "name": "stdout"
        },
        {
          "output_type": "display_data",
          "data": {
            "image/png": "[encoded data removed]",
            "text/plain": [
              "<Figure size 432x288 with 1 Axes>"
            ]
          },
          "metadata": {
            "tags": [],
            "needs_background": "light"
          }
        }
      ]
    }
  ]
}